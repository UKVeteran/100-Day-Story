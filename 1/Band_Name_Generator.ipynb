{
  "nbformat": 4,
  "nbformat_minor": 0,
  "metadata": {
    "colab": {
      "provenance": []
    },
    "kernelspec": {
      "name": "python3",
      "display_name": "Python 3"
    },
    "language_info": {
      "name": "python"
    }
  },
  "cells": [
    {
      "cell_type": "code",
      "execution_count": 2,
      "metadata": {
        "colab": {
          "base_uri": "https://localhost:8080/"
        },
        "id": "XpvZJfBoHTqF",
        "outputId": "838f9564-154d-476d-d95c-5ad985a5db0a"
      },
      "outputs": [
        {
          "output_type": "stream",
          "name": "stdout",
          "text": [
            "Welcome to the band name generator.\n",
            "which city did you grow up in?\n",
            "London\n",
            "London\n",
            "what is the name of the pet?\n",
            "Jackson\n",
            "Your band name could be LondonJackson\n"
          ]
        }
      ],
      "source": [
        "#1. Create a greeting for your program.\n",
        "print(\"Welcome to the band name generator.\")\n",
        "#2. Ask the user for the city that they grew up in.\n",
        "city = input(\"which city did you grow up in?\\n\")\n",
        "print(city)\n",
        "#3. Ask the user for the name of a pet.\n",
        "pet = input(\"what is the name of the pet?\\n\")\n",
        "#4. Combine the name of their city and pet and show them their band name.\n",
        "print(\"Your band name could be \" + city + \"\" + pet)"
      ]
    }
  ]
}
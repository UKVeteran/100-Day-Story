{
  "nbformat": 4,
  "nbformat_minor": 0,
  "metadata": {
    "colab": {
      "provenance": []
    },
    "kernelspec": {
      "name": "python3",
      "display_name": "Python 3"
    },
    "language_info": {
      "name": "python"
    }
  },
  "cells": [
    {
      "cell_type": "code",
      "execution_count": 16,
      "metadata": {
        "colab": {
          "base_uri": "https://localhost:8080/"
        },
        "id": "-_zcB3-vJZuU",
        "outputId": "691be174-173b-455b-ffe5-48aa1972de67"
      },
      "outputs": [
        {
          "output_type": "stream",
          "name": "stdout",
          "text": [
            "Welcome to the tip calculator.\n",
            "What was the total bill? $\n",
            "25\n",
            "How much tip would you like to give? 10, 12 or 15?\n",
            "10\n",
            "How many people to split the bill?\n",
            "5\n",
            "Each person should pay: $ 5.50\n"
          ]
        }
      ],
      "source": [
        "print(\"Welcome to the tip calculator.\")\n",
        "bill = float(input(\"What was the total bill? $\\n\"))\n",
        "tip = int(input(\"How much tip would you like to give? 10, 12 or 15?\\n\"))\n",
        "people = int(input(\"How many people to split the bill?\\n\"))\n",
        "tip_as_percent=tip/100\n",
        "total_tip_amount=bill*tip_as_percent\n",
        "total_bill=bill+total_tip_amount\n",
        "bill_per_person=total_bill/people\n",
        "final_amount= round(bill_per_person,2)\n",
        "final_amount= \"{:.2f}\".format(bill_per_person)\n",
        "print(f\"Each person should pay: $ {final_amount}\")"
      ]
    }
  ]
}
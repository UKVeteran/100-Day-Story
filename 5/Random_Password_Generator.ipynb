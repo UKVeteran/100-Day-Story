{
  "nbformat": 4,
  "nbformat_minor": 0,
  "metadata": {
    "colab": {
      "provenance": []
    },
    "kernelspec": {
      "name": "python3",
      "display_name": "Python 3"
    },
    "language_info": {
      "name": "python"
    }
  },
  "cells": [
    {
      "cell_type": "code",
      "execution_count": 1,
      "metadata": {
        "colab": {
          "base_uri": "https://localhost:8080/"
        },
        "id": "eduKYkYja67M",
        "outputId": "dc01960d-cb27-4cf4-e482-34b0b8f8fd2d"
      },
      "outputs": [
        {
          "output_type": "stream",
          "name": "stdout",
          "text": [
            "Welcome to the PyPassword Generator!\n",
            "How many letters would you like in your password?\n",
            "7\n",
            "How many symbols would you like?\n",
            "2\n",
            "How many numbers would you like?\n",
            "6\n",
            "['N', 'm', 'U', 'K', 'g', 'Y', 'J', '(', '$', '1', '9', '6', '6', '5', '9']\n",
            "['g', 'J', '6', '6', '$', 'Y', '(', 'm', '9', 'N', 'K', 'U', '1', '5', '9']\n",
            "Your password is: gJ66$Y(m9NKU159\n"
          ]
        }
      ],
      "source": [
        "#Password Generator Project\n",
        "import random\n",
        "letters = ['a', 'b', 'c', 'd', 'e', 'f', 'g', 'h', 'i', 'j', 'k', 'l', 'm', 'n', 'o', 'p', 'q', 'r', 's', 't', 'u', 'v', 'w', 'x', 'y', 'z', 'A', 'B', 'C', 'D', 'E', 'F', 'G', 'H', 'I', 'J', 'K', 'L', 'M', 'N', 'O', 'P', 'Q', 'R', 'S', 'T', 'U', 'V', 'W', 'X', 'Y', 'Z']\n",
        "numbers = ['0', '1', '2', '3', '4', '5', '6', '7', '8', '9']\n",
        "symbols = ['!', '#', '$', '%', '&', '(', ')', '*', '+']\n",
        "\n",
        "print(\"Welcome to the PyPassword Generator!\")\n",
        "nr_letters = int(input(\"How many letters would you like in your password?\\n\")) \n",
        "nr_symbols = int(input(f\"How many symbols would you like?\\n\"))\n",
        "nr_numbers = int(input(f\"How many numbers would you like?\\n\"))\n",
        "\n",
        "#Easy Level\n",
        "# password = \"\"\n",
        "\n",
        "# for char in range(1, nr_letters + 1):\n",
        "#   password += random.choice(letters)\n",
        "\n",
        "# for char in range(1, nr_symbols + 1):\n",
        "#   password += random.choice(symbols)\n",
        "\n",
        "# for char in range(1, nr_numbers + 1):\n",
        "#   password += random.choice(numbers)\n",
        "\n",
        "# print(password)\n",
        "\n",
        "#Hard Level\n",
        "password_list = []\n",
        "\n",
        "for char in range(1, nr_letters + 1):\n",
        "  password_list.append(random.choice(letters))\n",
        "\n",
        "for char in range(1, nr_symbols + 1):\n",
        "  password_list += random.choice(symbols)\n",
        "\n",
        "for char in range(1, nr_numbers + 1):\n",
        "  password_list += random.choice(numbers)\n",
        "\n",
        "print(password_list)\n",
        "random.shuffle(password_list)\n",
        "print(password_list)\n",
        "\n",
        "password = \"\"\n",
        "for char in password_list:\n",
        "  password += char\n",
        "\n",
        "print(f\"Your password is: {password}\")"
      ]
    }
  ]
}
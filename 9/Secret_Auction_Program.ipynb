{
  "nbformat": 4,
  "nbformat_minor": 0,
  "metadata": {
    "colab": {
      "provenance": []
    },
    "kernelspec": {
      "name": "python3",
      "display_name": "Python 3"
    },
    "language_info": {
      "name": "python"
    }
  },
  "cells": [
    {
      "cell_type": "code",
      "execution_count": 4,
      "metadata": {
        "colab": {
          "base_uri": "https://localhost:8080/"
        },
        "id": "6TJQqtPrwcio",
        "outputId": "acd52d97-0600-484e-c0fc-e69ee3fcf866"
      },
      "outputs": [
        {
          "output_type": "stream",
          "name": "stdout",
          "text": [
            "           \n",
            " ,adPPYba, ,adPPYYba,  ,adPPYba, ,adPPYba, ,adPPYYba, 8b,dPPYba,  \n",
            "a8\"     \"\" \"\"     `Y8 a8P_____88 I8[    \"\" \"\"     `Y8 88P'   \"Y8  \n",
            "8b         ,adPPPPP88 8PP\"  `\"Y8ba,  ,adPPPPP88 88          \n",
            "\"8a,   ,aa 88,    ,88 \"8b,   ,aa aa    ]8I 88,    ,88 88          \n",
            " `\"Ybbd8\"' `\"8bbdP\"Y8  `\"Ybbd8\"' `\"YbbdP\"' `\"8bbdP\"Y8 88   \n",
            "            88             88                                 \n",
            "           \"\"             88                                 \n",
            "                          88                                 \n",
            " ,adPPYba, 88 8b,dPPYba,  88,dPPYba,   ,adPPYba, 8b,dPPYba,  \n",
            "a8\"     \"\" 88 88P'    \"8a 88P'    \"8a a8P_____88 88P'   \"Y8  \n",
            "8b         88 88       d8 88       88 8PP\" 88          \n",
            "\"8a,   ,aa 88 88b,   ,a8\" 88       88 \"8b,   ,aa 88          \n",
            " `\"Ybbd8\"' 88 88`YbbdP\"'  88       88  `\"Ybbd8\"' 88          \n",
            "              88                                             \n",
            "              88           \n",
            "\n",
            "What is your name?: Johar \n",
            "What is your bid?: $120\n",
            "Are there any other bidders? Type 'yes or 'no'.\n",
            "No\n",
            "What is your name?: Joe\n",
            "What is your bid?: $200\n",
            "Are there any other bidders? Type 'yes or 'no'.\n",
            "no\n",
            "The winner is Joe with a bid of $200\n"
          ]
        }
      ],
      "source": [
        "from art import logo\n",
        "print(logo)\n",
        "\n",
        "bids = {}\n",
        "bidding_finished = False\n",
        "\n",
        "def find_highest_bidder(bidding_record):\n",
        "  highest_bid = 0\n",
        "  winner = \"\"\n",
        "  # bidding_record = {\"Angela\": 123, \"James\": 321}\n",
        "  for bidder in bidding_record:\n",
        "    bid_amount = bidding_record[bidder]\n",
        "    if bid_amount > highest_bid: \n",
        "      highest_bid = bid_amount\n",
        "      winner = bidder\n",
        "  print(f\"The winner is {winner} with a bid of ${highest_bid}\")\n",
        "\n",
        "while not bidding_finished:\n",
        "  name = input(\"What is your name?: \")\n",
        "  price = int(input(\"What is your bid?: $\"))\n",
        "  bids[name] = price\n",
        "  should_continue = input(\"Are there any other bidders? Type 'yes or 'no'.\\n\")\n",
        "  if should_continue == \"no\":\n",
        "    bidding_finished = True\n",
        "    find_highest_bidder(bids)\n",
        "  elif should_continue == \"yes\":\n",
        "    clear()"
      ]
    }
  ]
}
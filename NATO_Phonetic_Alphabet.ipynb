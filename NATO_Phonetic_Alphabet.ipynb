{
  "nbformat": 4,
  "nbformat_minor": 0,
  "metadata": {
    "colab": {
      "provenance": []
    },
    "kernelspec": {
      "name": "python3",
      "display_name": "Python 3"
    },
    "language_info": {
      "name": "python"
    }
  },
  "cells": [
    {
      "cell_type": "code",
      "execution_count": 1,
      "metadata": {
        "colab": {
          "base_uri": "https://localhost:8080/"
        },
        "id": "47a7MoFFQV9b",
        "outputId": "aef636e2-88ae-4ef3-bea4-6d23d5f9afb3"
      },
      "outputs": [
        {
          "output_type": "stream",
          "name": "stdout",
          "text": [
            "{'A': 'Alfa', 'B': 'Bravo', 'C': 'Charlie', 'D': 'Delta', 'E': 'Echo', 'F': 'Foxtrot', 'G': 'Golf', 'H': 'Hotel', 'I': 'India', 'J': 'Juliet', 'K': 'Kilo', 'L': 'Lima', 'M': 'Mike', 'N': 'November', 'O': 'Oscar', 'P': 'Papa', 'Q': 'Quebec', 'R': 'Romeo', 'S': 'Sierra', 'T': 'Tango', 'U': 'Uniform', 'V': 'Victor', 'W': 'Whiskey', 'X': 'X-ray', 'Y': 'Yankee', 'Z': 'Zulu'}\n",
            "Enter a word: JOHAR\n",
            "['Juliet', 'Oscar', 'Hotel', 'Alfa', 'Romeo']\n"
          ]
        }
      ],
      "source": [
        "import pandas\n",
        "\n",
        "data = pandas.read_csv(\"nato_phonetic_alphabet.csv\")\n",
        "#TODO 1. Create a dictionary in this format:\n",
        "phonetic_dict = {row.letter: row.code for (index, row) in data.iterrows()}\n",
        "print(phonetic_dict)\n",
        "\n",
        "#TODO 2. Create a list of the phonetic code words from a word that the user inputs.\n",
        "\n",
        "word = input(\"Enter a word: \").upper()\n",
        "output_list = [phonetic_dict[letter] for letter in word]\n",
        "print(output_list)"
      ]
    }
  ]
}
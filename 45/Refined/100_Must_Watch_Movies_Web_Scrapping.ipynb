{
  "nbformat": 4,
  "nbformat_minor": 0,
  "metadata": {
    "colab": {
      "provenance": []
    },
    "kernelspec": {
      "name": "python3",
      "display_name": "Python 3"
    },
    "language_info": {
      "name": "python"
    }
  },
  "cells": [
    {
      "cell_type": "code",
      "execution_count": 1,
      "metadata": {
        "id": "qVQ59m-5fdfu"
      },
      "outputs": [],
      "source": [
        "import requests\n",
        "from bs4 import BeautifulSoup\n",
        "\n",
        "URL = \"https://web.archive.org/web/20200518073855/https://www.empireonline.com/movies/features/best-movies-2/\"\n",
        "\n",
        "# Write your code below this line 👇\n",
        "\n",
        "response = requests.get(URL)\n",
        "website_html = response.text\n",
        "\n",
        "soup = BeautifulSoup(website_html, \"html.parser\")\n",
        "\n",
        "all_movies = soup.find_all(name=\"h3\", class_=\"title\")\n",
        "\n",
        "movie_titles = [movie.getText() for movie in all_movies]\n",
        "movies = movie_titles[::-1]\n",
        "\n",
        "with open(\"movies.txt\", mode=\"w\") as file:\n",
        "    for movie in movies:\n",
        "        file.write(f\"{movie}\\n\")"
      ]
    }
  ]
}
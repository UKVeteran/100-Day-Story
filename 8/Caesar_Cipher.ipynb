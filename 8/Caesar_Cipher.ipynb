{
  "nbformat": 4,
  "nbformat_minor": 0,
  "metadata": {
    "colab": {
      "provenance": []
    },
    "kernelspec": {
      "name": "python3",
      "display_name": "Python 3"
    },
    "language_info": {
      "name": "python"
    }
  },
  "cells": [
    {
      "cell_type": "code",
      "execution_count": 1,
      "metadata": {
        "colab": {
          "base_uri": "https://localhost:8080/"
        },
        "id": "hqo08RPeuE1G",
        "outputId": "2b8e9d1c-e650-4b44-b659-a0b4d3e88c3b"
      },
      "outputs": [
        {
          "output_type": "stream",
          "name": "stdout",
          "text": [
            "           \n",
            " ,adPPYba, ,adPPYYba,  ,adPPYba, ,adPPYba, ,adPPYYba, 8b,dPPYba,  \n",
            "a8\"     \"\" \"\"     `Y8 a8P_____88 I8[    \"\" \"\"     `Y8 88P'   \"Y8  \n",
            "8b         ,adPPPPP88 8PP\"  `\"Y8ba,  ,adPPPPP88 88          \n",
            "\"8a,   ,aa 88,    ,88 \"8b,   ,aa aa    ]8I 88,    ,88 88          \n",
            " `\"Ybbd8\"' `\"8bbdP\"Y8  `\"Ybbd8\"' `\"YbbdP\"' `\"8bbdP\"Y8 88   \n",
            "            88             88                                 \n",
            "           \"\"             88                                 \n",
            "                          88                                 \n",
            " ,adPPYba, 88 8b,dPPYba,  88,dPPYba,   ,adPPYba, 8b,dPPYba,  \n",
            "a8\"     \"\" 88 88P'    \"8a 88P'    \"8a a8P_____88 88P'   \"Y8  \n",
            "8b         88 88       d8 88       88 8PP\" 88          \n",
            "\"8a,   ,aa 88 88b,   ,a8\" 88       88 \"8b,   ,aa 88          \n",
            " `\"Ybbd8\"' 88 88`YbbdP\"'  88       88  `\"Ybbd8\"' 88          \n",
            "              88                                             \n",
            "              88           \n",
            "\n",
            "Type 'encode' to encrypt, type 'decode' to decrypt:\n",
            "encode\n",
            "Type your message:\n",
            "hello\n",
            "Type the shift number:\n",
            "15\n",
            "Here's the encoded result: wtaad\n",
            "Type 'yes' if you want to go again. Otherwise type 'no'.\n",
            "yes\n",
            "Type 'encode' to encrypt, type 'decode' to decrypt:\n",
            "decode\n",
            "Type your message:\n",
            "wtaad\n",
            "Type the shift number:\n",
            "15\n",
            "Here's the decoded result: hello\n",
            "Type 'yes' if you want to go again. Otherwise type 'no'.\n",
            "no\n",
            "Goodbye\n"
          ]
        }
      ],
      "source": [
        "alphabet = ['a', 'b', 'c', 'd', 'e', 'f', 'g', 'h', 'i', 'j', 'k', 'l', 'm', 'n', 'o', 'p', 'q', 'r', 's', 't', 'u', 'v', 'w', 'x', 'y', 'z', 'a', 'b', 'c', 'd', 'e', 'f', 'g', 'h', 'i', 'j', 'k', 'l', 'm', 'n', 'o', 'p', 'q', 'r', 's', 't', 'u', 'v', 'w', 'x', 'y', 'z']\n",
        "\n",
        "def caesar(start_text, shift_amount, cipher_direction):\n",
        "  end_text = \"\"\n",
        "  if cipher_direction == \"decode\":\n",
        "    shift_amount *= -1\n",
        "  for char in start_text:\n",
        "    #TODO-3: What happens if the user enters a number/symbol/space?\n",
        "    #Can you fix the code to keep the number/symbol/space when the text is encoded/decoded?\n",
        "    #e.g. start_text = \"meet me at 3\"\n",
        "    #end_text = \"•••• •• •• 3\"\n",
        "    if char in alphabet:\n",
        "      position = alphabet.index(char)\n",
        "      new_position = position + shift_amount\n",
        "      end_text += alphabet[new_position]\n",
        "    else:\n",
        "      end_text += char\n",
        "  print(f\"Here's the {cipher_direction}d result: {end_text}\")\n",
        "\n",
        "from art import logo\n",
        "print(logo)\n",
        "\n",
        "#If they type 'yes' then ask them for the direction/text/shift again and call the caesar() function again?\n",
        "#Hint: Try creating a while loop that continues to execute the program if the user types 'yes'.\n",
        "should_end = False\n",
        "while not should_end:\n",
        "\n",
        "  direction = input(\"Type 'encode' to encrypt, type 'decode' to decrypt:\\n\")\n",
        "  text = input(\"Type your message:\\n\").lower()\n",
        "  shift = int(input(\"Type the shift number:\\n\"))\n",
        "  #Add some code so that the program continues to work even if the user enters a shift number greater than 26. \n",
        "  #Hint: Think about how you can use the modulus (%).\n",
        "  shift = shift % 26\n",
        "\n",
        "  caesar(start_text=text, shift_amount=shift, cipher_direction=direction)\n",
        "\n",
        "  restart = input(\"Type 'yes' if you want to go again. Otherwise type 'no'.\\n\")\n",
        "  if restart == \"no\":\n",
        "    should_end = True\n",
        "    print(\"Goodbye\")"
      ]
    }
  ]
}